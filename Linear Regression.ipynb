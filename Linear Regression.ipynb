{
 "cells": [
  {
   "cell_type": "code",
   "execution_count": 1,
   "metadata": {},
   "outputs": [],
   "source": [
    "import torch\n",
    "import numpy as np\n",
    "import torch.nn as nn\n",
    "import matplotlib.pyplot as plt"
   ]
  },
  {
   "cell_type": "code",
   "execution_count": 2,
   "metadata": {},
   "outputs": [],
   "source": [
    "# data\n",
    "x_train = np.array([[2], [3], [4], [5], [7], [8], [10], [13], [15], [16], [18]], dtype=np.float32)\n",
    "y_train = np.array([[5], [7], [9], [11], [15], [17], [21], [27], [31], [33], [37]], dtype=np.float32)"
   ]
  },
  {
   "cell_type": "code",
   "execution_count": 3,
   "metadata": {},
   "outputs": [],
   "source": [
    "# hyperparameters\n",
    "batch_size = len(x_train)\n",
    "lr = 0.001\n",
    "in_features = 1\n",
    "out_features = 1\n",
    "epochs = 20"
   ]
  },
  {
   "cell_type": "code",
   "execution_count": 4,
   "metadata": {},
   "outputs": [],
   "source": [
    "# model\n",
    "model = nn.Linear(in_features=in_features, out_features=out_features)"
   ]
  },
  {
   "cell_type": "code",
   "execution_count": 5,
   "metadata": {},
   "outputs": [],
   "source": [
    "# loss function and optimizer\n",
    "criterion = nn.MSELoss()\n",
    "optimizer = torch.optim.SGD(model.parameters(), lr=lr)"
   ]
  },
  {
   "cell_type": "code",
   "execution_count": 6,
   "metadata": {},
   "outputs": [
    {
     "name": "stdout",
     "output_type": "stream",
     "text": [
      "Epoch: 1, Loss: 604.867\n",
      "Epoch: 2, Loss: 361.385\n",
      "Epoch: 3, Loss: 215.949\n",
      "Epoch: 4, Loss: 129.076\n",
      "Epoch: 5, Loss: 77.185\n",
      "Epoch: 6, Loss: 46.189\n",
      "Epoch: 7, Loss: 27.675\n",
      "Epoch: 8, Loss: 16.616\n",
      "Epoch: 9, Loss: 10.010\n",
      "Epoch: 10, Loss: 6.064\n",
      "Epoch: 11, Loss: 3.707\n",
      "Epoch: 12, Loss: 2.299\n",
      "Epoch: 13, Loss: 1.458\n",
      "Epoch: 14, Loss: 0.955\n",
      "Epoch: 15, Loss: 0.655\n",
      "Epoch: 16, Loss: 0.475\n",
      "Epoch: 17, Loss: 0.368\n",
      "Epoch: 18, Loss: 0.304\n",
      "Epoch: 19, Loss: 0.266\n",
      "Epoch: 20, Loss: 0.243\n"
     ]
    }
   ],
   "source": [
    "for epoch in range(epochs):\n",
    "   \n",
    "    # convert to torch tensors\n",
    "    x = torch.from_numpy(x_train)\n",
    "    y = torch.from_numpy(y_train)\n",
    "    \n",
    "    # forward prop\n",
    "    pred = model(x)\n",
    "    loss = criterion(pred, y)\n",
    "    \n",
    "    # backward prop\n",
    "    optimizer.zero_grad()\n",
    "    loss.backward()\n",
    "    optimizer.step()\n",
    "    \n",
    "    print(\"Epoch: {}, Loss: {:.3f}\".format(epoch+1, loss.item()))"
   ]
  },
  {
   "cell_type": "code",
   "execution_count": 9,
   "metadata": {},
   "outputs": [
    {
     "data": {
      "image/png": "[encoded data removed]",
      "text/plain": [
       "<Figure size 432x288 with 1 Axes>"
      ]
     },
     "metadata": {
      "needs_background": "light"
     },
     "output_type": "display_data"
    }
   ],
   "source": [
    "# Plot the Data\n",
    "predicted = model(torch.from_numpy(x_train)).detach().numpy()\n",
    "plt.plot(x_train, y_train, 'bo', label='Original data')\n",
    "plt.plot(x_train, predicted, 'r', label='Fitted line')\n",
    "plt.legend()\n",
    "plt.show()"
   ]
  },
  {
   "cell_type": "code",
   "execution_count": null,
   "metadata": {},
   "outputs": [],
   "source": []
  }
 ],
 "metadata": {
  "kernelspec": {
   "display_name": "Python 3",
   "language": "python",
   "name": "python3"
  },
  "language_info": {
   "codemirror_mode": {
    "name": "ipython",
    "version": 3
   },
   "file_extension": ".py",
   "mimetype": "text/x-python",
   "name": "python",
   "nbconvert_exporter": "python",
   "pygments_lexer": "ipython3",
   "version": "3.7.4"
  }
 },
 "nbformat": 4,
 "nbformat_minor": 2
}
